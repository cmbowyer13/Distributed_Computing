{
  "metadata": {
    "kernelspec": {
      "display_name": "Python 3",
      "language": "python",
      "name": "python3"
    },
    "language_info": {
      "codemirror_mode": {
        "name": "ipython",
        "version": 3
      },
      "file_extension": ".py",
      "mimetype": "text/x-python",
      "name": "python",
      "nbconvert_exporter": "python",
      "pygments_lexer": "ipython3",
      "version": "3.5.3"
    },
    "colab": {
      "name": "pyspark_prediction_experimentation.ipynb",
      "provenance": [],
      "collapsed_sections": [],
      "include_colab_link": true
    }
  },
  "nbformat_minor": 0,
  "nbformat": 4,
  "cells": [
    {
      "cell_type": "markdown",
      "metadata": {
        "id": "view-in-github",
        "colab_type": "text"
      },
      "source": [
        "<a href=\"https://colab.research.google.com/github/cmbowyer13/Distributed_Computing/blob/main/pyspark_prediction_experimentation.ipynb\" target=\"_parent\"><img src=\"https://colab.research.google.com/assets/colab-badge.svg\" alt=\"Open In Colab\"/></a>"
      ]
    },
    {
      "cell_type": "markdown",
      "source": [
        "# Predicting House Prices with Apache Spark and linear regression\n",
        "\n",
        "In this we'll make use of the [California Housing](http://www.dcc.fc.up.pt/~ltorgo/Regression/cal_housing.html) data set. This dataset doesn't really need distributed computing, but it is great to show an example of how pyspark works. "
      ],
      "metadata": {
        "id": "Sr1h_3lVvhRz"
      }
    },
    {
      "cell_type": "markdown",
      "source": [
        "## 1. The Data\n",
        "\n",
        "First appeared in a 1997 paper titled *Sparse Spatial Autoregressions*, written by Pace, R. Kelley and Ronald Barry and published in the Statistics and Probability Letters journal. Built with 1990 Census data. \n",
        "\n",
        "Every row contains data from a census block group. A block group is the smallest geographical unit for which the U.S. Census Bureau publishes sample data (a block group typically has a population of 600 to 3,000 people). A block includes on average 1425.5 individuals living in an area.\n",
        "\n",
        "There are 20,640 observations on housing prices with 9 economic predictors.\n",
        "\n",
        "The Median house value is the dependent variable and will be assigned the role of the target variable in our ML model."
      ],
      "metadata": {
        "id": "I38ybps-vhR0"
      }
    },
    {
      "cell_type": "code",
      "source": [
        "!pip install pyspark"
      ],
      "metadata": {
        "trusted": true,
        "colab": {
          "base_uri": "https://localhost:8080/"
        },
        "id": "M8Ql_QaZvhR2",
        "outputId": "15d184da-7fd4-422c-97f0-ac493adeb8fd"
      },
      "execution_count": 1,
      "outputs": [
        {
          "output_type": "stream",
          "name": "stdout",
          "text": [
            "Looking in indexes: https://pypi.org/simple, https://us-python.pkg.dev/colab-wheels/public/simple/\n",
            "Requirement already satisfied: pyspark in /usr/local/lib/python3.7/dist-packages (3.3.0)\n",
            "Requirement already satisfied: py4j==0.10.9.5 in /usr/local/lib/python3.7/dist-packages (from pyspark) (0.10.9.5)\n"
          ]
        }
      ]
    },
    {
      "cell_type": "code",
      "source": [
        "import os\n",
        "import pandas as pd\n",
        "import numpy as np\n",
        "\n",
        "from pyspark import SparkConf, SparkContext\n",
        "from pyspark.sql import SparkSession, SQLContext\n",
        "\n",
        "from pyspark.sql.types import *\n",
        "import pyspark.sql.functions as F\n",
        "from pyspark.sql.functions import udf, col\n",
        "\n",
        "from pyspark.ml.regression import LinearRegression\n",
        "from pyspark.mllib.evaluation import RegressionMetrics\n",
        "\n",
        "from pyspark.ml.tuning import ParamGridBuilder, CrossValidator, CrossValidatorModel\n",
        "from pyspark.ml.feature import VectorAssembler, StandardScaler\n",
        "from pyspark.ml.evaluation import RegressionEvaluator"
      ],
      "metadata": {
        "trusted": true,
        "id": "iR72c_RIvhR3"
      },
      "execution_count": 2,
      "outputs": []
    },
    {
      "cell_type": "code",
      "source": [
        "import seaborn as sns\n",
        "import matplotlib.pyplot as plt"
      ],
      "metadata": {
        "trusted": true,
        "id": "dbqaGghzvhR4"
      },
      "execution_count": 3,
      "outputs": []
    },
    {
      "cell_type": "code",
      "source": [
        "# Visualization\n",
        "from IPython.core.interactiveshell import InteractiveShell\n",
        "InteractiveShell.ast_node_interactivity = \"all\"\n",
        "\n",
        "pd.set_option('display.max_columns', 200)\n",
        "pd.set_option('display.max_colwidth', 400)\n",
        "\n",
        "from matplotlib import rcParams\n",
        "sns.set(context='notebook', style='whitegrid', rc={'figure.figsize': (18,4)})\n",
        "rcParams['figure.figsize'] = 18,4\n",
        "\n",
        "%matplotlib inline\n",
        "%config InlineBackend.figure_format = 'retina'"
      ],
      "metadata": {
        "trusted": true,
        "id": "S9sMnz6CvhR4"
      },
      "execution_count": 4,
      "outputs": []
    },
    {
      "cell_type": "code",
      "source": [
        "# setting random seed for notebook reproducibility\n",
        "\n",
        "rnd_seed=23\n",
        "np.random.seed=rnd_seed\n",
        "np.random.set_state=rnd_seed"
      ],
      "metadata": {
        "trusted": true,
        "id": "mKC_-W_svhR5"
      },
      "execution_count": 5,
      "outputs": []
    },
    {
      "cell_type": "markdown",
      "source": [
        "## 2. Create the Spark Session"
      ],
      "metadata": {
        "id": "Y1Jvh1kWvhR5"
      }
    },
    {
      "cell_type": "code",
      "source": [
        "#we may want to compare speed performance by maxing out cpu partitions below"
      ],
      "metadata": {
        "id": "5uONHSuz-R2p"
      },
      "execution_count": 6,
      "outputs": []
    },
    {
      "cell_type": "code",
      "source": [
        "spark = SparkSession.builder.master(\"local[2]\").appName(\"Housing_price_predictions\").getOrCreate()"
      ],
      "metadata": {
        "trusted": true,
        "id": "p13t9SnsvhR5"
      },
      "execution_count": 7,
      "outputs": []
    },
    {
      "cell_type": "code",
      "source": [
        "spark"
      ],
      "metadata": {
        "trusted": true,
        "colab": {
          "base_uri": "https://localhost:8080/",
          "height": 221
        },
        "id": "2fMGH6UfvhR5",
        "outputId": "beb202a4-4334-4837-a5c4-8141b3cf0301"
      },
      "execution_count": 8,
      "outputs": [
        {
          "output_type": "execute_result",
          "data": {
            "text/plain": [
              "<pyspark.sql.session.SparkSession at 0x7f3ce8393690>"
            ],
            "text/html": [
              "\n",
              "            <div>\n",
              "                <p><b>SparkSession - in-memory</b></p>\n",
              "                \n",
              "        <div>\n",
              "            <p><b>SparkContext</b></p>\n",
              "\n",
              "            <p><a href=\"http://af70134279b3:4040\">Spark UI</a></p>\n",
              "\n",
              "            <dl>\n",
              "              <dt>Version</dt>\n",
              "                <dd><code>v3.3.0</code></dd>\n",
              "              <dt>Master</dt>\n",
              "                <dd><code>local[2]</code></dd>\n",
              "              <dt>AppName</dt>\n",
              "                <dd><code>Housing_price_predictions</code></dd>\n",
              "            </dl>\n",
              "        </div>\n",
              "        \n",
              "            </div>\n",
              "        "
            ]
          },
          "metadata": {},
          "execution_count": 8
        }
      ]
    },
    {
      "cell_type": "code",
      "source": [
        "sc = spark.sparkContext\n",
        "sc"
      ],
      "metadata": {
        "trusted": true,
        "id": "ZZb941xNvhR6"
      },
      "execution_count": null,
      "outputs": []
    },
    {
      "cell_type": "code",
      "source": [
        "sqlContext = SQLContext(spark.sparkContext)\n",
        "sqlContext"
      ],
      "metadata": {
        "trusted": true,
        "colab": {
          "base_uri": "https://localhost:8080/"
        },
        "id": "enJS9B6xvhR6",
        "outputId": "69693645-f91f-4677-d748-f60ce45cddbe"
      },
      "execution_count": 10,
      "outputs": [
        {
          "output_type": "stream",
          "name": "stderr",
          "text": [
            "/usr/local/lib/python3.7/dist-packages/pyspark/sql/context.py:114: FutureWarning: Deprecated in 3.0.0. Use SparkSession.builder.getOrCreate() instead.\n",
            "  FutureWarning,\n"
          ]
        },
        {
          "output_type": "execute_result",
          "data": {
            "text/plain": [
              "<pyspark.sql.context.SQLContext at 0x7f3ce83aa710>"
            ]
          },
          "metadata": {},
          "execution_count": 10
        }
      ]
    },
    {
      "cell_type": "markdown",
      "source": [
        "## 3. Load The Data From a File Into a Dataframe"
      ],
      "metadata": {
        "id": "iAWbP8xWvhR6"
      }
    },
    {
      "cell_type": "code",
      "source": [
        "!unzip \"/cal_housing.data.zip\" -d \"housing_data\""
      ],
      "metadata": {
        "colab": {
          "base_uri": "https://localhost:8080/"
        },
        "id": "f9-AOzy1yBsu",
        "outputId": "06b723d9-0b41-4610-a497-e9a3008d34a4"
      },
      "execution_count": 11,
      "outputs": [
        {
          "output_type": "stream",
          "name": "stdout",
          "text": [
            "Archive:  /cal_housing.data.zip\n",
            "replace housing_data/cal_housing.data? [y]es, [n]o, [A]ll, [N]one, [r]ename: "
          ]
        }
      ]
    },
    {
      "cell_type": "code",
      "source": [
        "housing_data = '/content/housing_data'"
      ],
      "metadata": {
        "trusted": true,
        "id": "Qr8qR-kAvhR6"
      },
      "execution_count": null,
      "outputs": []
    },
    {
      "cell_type": "markdown",
      "source": [
        "Specifying the schema when loading data into a DataFrame will give better performance than schema inference."
      ],
      "metadata": {
        "id": "l2tVeUVLvhR7"
      }
    },
    {
      "cell_type": "code",
      "source": [
        "# define the schema, corresponding to a line in the csv data file.\n",
        "schema = StructType([\n",
        "    StructField(\"long\", FloatType(), nullable=True),\n",
        "    StructField(\"lat\", FloatType(), nullable=True),\n",
        "    StructField(\"medage\", FloatType(), nullable=True),\n",
        "    StructField(\"totrooms\", FloatType(), nullable=True),\n",
        "    StructField(\"totbdrms\", FloatType(), nullable=True),\n",
        "    StructField(\"pop\", FloatType(), nullable=True),\n",
        "    StructField(\"houshlds\", FloatType(), nullable=True),\n",
        "    StructField(\"medinc\", FloatType(), nullable=True),\n",
        "    StructField(\"medhv\", FloatType(), nullable=True)]\n",
        ")"
      ],
      "metadata": {
        "trusted": true,
        "id": "D97U0va4vhR7"
      },
      "execution_count": 27,
      "outputs": []
    },
    {
      "cell_type": "code",
      "source": [
        "# Load housing data\n",
        "census_housing = spark.read.csv(path=housing_data, schema=schema).cache()"
      ],
      "metadata": {
        "trusted": true,
        "id": "2N0FBidgvhR7"
      },
      "execution_count": 28,
      "outputs": []
    },
    {
      "cell_type": "code",
      "source": [
        "# Inspect first five rows\n",
        "census_housing.take(5)"
      ],
      "metadata": {
        "trusted": true,
        "colab": {
          "base_uri": "https://localhost:8080/"
        },
        "id": "c8MoEIJBvhR7",
        "outputId": "3649da1c-bc6d-416e-a014-739d40cac308"
      },
      "execution_count": 29,
      "outputs": [
        {
          "output_type": "execute_result",
          "data": {
            "text/plain": [
              "[Row(long=-122.2300033569336, lat=37.880001068115234, medage=41.0, totrooms=880.0, totbdrms=129.0, pop=322.0, houshlds=126.0, medinc=8.325200080871582, medhv=452600.0),\n",
              " Row(long=-122.22000122070312, lat=37.86000061035156, medage=21.0, totrooms=7099.0, totbdrms=1106.0, pop=2401.0, houshlds=1138.0, medinc=8.301400184631348, medhv=358500.0),\n",
              " Row(long=-122.23999786376953, lat=37.849998474121094, medage=52.0, totrooms=1467.0, totbdrms=190.0, pop=496.0, houshlds=177.0, medinc=7.257400035858154, medhv=352100.0),\n",
              " Row(long=-122.25, lat=37.849998474121094, medage=52.0, totrooms=1274.0, totbdrms=235.0, pop=558.0, houshlds=219.0, medinc=5.643099784851074, medhv=341300.0),\n",
              " Row(long=-122.25, lat=37.849998474121094, medage=52.0, totrooms=1627.0, totbdrms=280.0, pop=565.0, houshlds=259.0, medinc=3.8461999893188477, medhv=342200.0)]"
            ]
          },
          "metadata": {},
          "execution_count": 29
        }
      ]
    },
    {
      "cell_type": "code",
      "source": [
        "# Show first five rows\n",
        "#need to figure out indexing...how can we look at bottom or arbitrary loc in structfield?\n",
        "census_housing.show(5)\n"
      ],
      "metadata": {
        "trusted": true,
        "colab": {
          "base_uri": "https://localhost:8080/"
        },
        "id": "tSFDc5AFvhR7",
        "outputId": "2d1ec57d-e61a-4303-e918-757662a68f3c"
      },
      "execution_count": 41,
      "outputs": [
        {
          "output_type": "stream",
          "name": "stdout",
          "text": [
            "+-------+-----+------+--------+--------+------+--------+------+--------+\n",
            "|   long|  lat|medage|totrooms|totbdrms|   pop|houshlds|medinc|   medhv|\n",
            "+-------+-----+------+--------+--------+------+--------+------+--------+\n",
            "|-122.23|37.88|  41.0|   880.0|   129.0| 322.0|   126.0|8.3252|452600.0|\n",
            "|-122.22|37.86|  21.0|  7099.0|  1106.0|2401.0|  1138.0|8.3014|358500.0|\n",
            "|-122.24|37.85|  52.0|  1467.0|   190.0| 496.0|   177.0|7.2574|352100.0|\n",
            "|-122.25|37.85|  52.0|  1274.0|   235.0| 558.0|   219.0|5.6431|341300.0|\n",
            "|-122.25|37.85|  52.0|  1627.0|   280.0| 565.0|   259.0|3.8462|342200.0|\n",
            "+-------+-----+------+--------+--------+------+--------+------+--------+\n",
            "only showing top 5 rows\n",
            "\n"
          ]
        }
      ]
    },
    {
      "cell_type": "code",
      "source": [
        "# show the dataframe columns\n",
        "census_housing.columns"
      ],
      "metadata": {
        "trusted": true,
        "colab": {
          "base_uri": "https://localhost:8080/"
        },
        "id": "3FrHE51vvhR8",
        "outputId": "020ea89c-27ff-48ea-94f5-028827335185"
      },
      "execution_count": 42,
      "outputs": [
        {
          "output_type": "execute_result",
          "data": {
            "text/plain": [
              "['long',\n",
              " 'lat',\n",
              " 'medage',\n",
              " 'totrooms',\n",
              " 'totbdrms',\n",
              " 'pop',\n",
              " 'houshlds',\n",
              " 'medinc',\n",
              " 'medhv']"
            ]
          },
          "metadata": {},
          "execution_count": 42
        }
      ]
    },
    {
      "cell_type": "code",
      "source": [
        "# show the schema of the dataframe\n",
        "census_housing.printSchema()"
      ],
      "metadata": {
        "trusted": true,
        "colab": {
          "base_uri": "https://localhost:8080/"
        },
        "id": "kAPyfDbTvhR8",
        "outputId": "9a9fc468-6eca-4c5e-d099-9616adfa2da6"
      },
      "execution_count": 43,
      "outputs": [
        {
          "output_type": "stream",
          "name": "stdout",
          "text": [
            "root\n",
            " |-- long: float (nullable = true)\n",
            " |-- lat: float (nullable = true)\n",
            " |-- medage: float (nullable = true)\n",
            " |-- totrooms: float (nullable = true)\n",
            " |-- totbdrms: float (nullable = true)\n",
            " |-- pop: float (nullable = true)\n",
            " |-- houshlds: float (nullable = true)\n",
            " |-- medinc: float (nullable = true)\n",
            " |-- medhv: float (nullable = true)\n",
            "\n"
          ]
        }
      ]
    },
    {
      "cell_type": "markdown",
      "source": [
        "## 4. Data Exploration"
      ],
      "metadata": {
        "id": "3xhLWvYFvhR8"
      }
    },
    {
      "cell_type": "markdown",
      "source": [
        "### 4.1 Distribution of the median age of the people living in the area:"
      ],
      "metadata": {
        "id": "JT_2Fi5MvhR9"
      }
    },
    {
      "cell_type": "code",
      "source": [
        "# group by housing median age and see the distribution\n",
        "result_df = census_housing.groupBy(\"medage\").count().sort(\"medage\", ascending=True)"
      ],
      "metadata": {
        "trusted": true,
        "id": "XCcxkrzNvhR9"
      },
      "execution_count": null,
      "outputs": []
    },
    {
      "cell_type": "code",
      "source": [
        "result_df.show(10)"
      ],
      "metadata": {
        "trusted": true,
        "colab": {
          "base_uri": "https://localhost:8080/"
        },
        "id": "5novM3zovhR9",
        "outputId": "e76b1408-de6e-4687-a97c-039370440d9f"
      },
      "execution_count": 20,
      "outputs": [
        {
          "output_type": "stream",
          "name": "stdout",
          "text": [
            "+------+-----+\n",
            "|medage|count|\n",
            "+------+-----+\n",
            "|   1.0|    4|\n",
            "|   2.0|   58|\n",
            "|   3.0|   62|\n",
            "|   4.0|  191|\n",
            "|   5.0|  244|\n",
            "|   6.0|  160|\n",
            "|   7.0|  175|\n",
            "|   8.0|  206|\n",
            "|   9.0|  205|\n",
            "|  10.0|  264|\n",
            "+------+-----+\n",
            "only showing top 10 rows\n",
            "\n"
          ]
        }
      ]
    },
    {
      "cell_type": "code",
      "source": [
        "result_df.toPandas().plot.bar(x='medage',figsize=(14, 6))\n"
      ],
      "metadata": {
        "trusted": true,
        "id": "XwYBdSC9vhR9"
      },
      "execution_count": null,
      "outputs": []
    },
    {
      "cell_type": "markdown",
      "source": [
        "As can be seen, there is very restricted age data here. It couldn't be the case that there is nobody over the age of 52 living in any of these census block groups. "
      ],
      "metadata": {
        "id": "9ItsCoBPvhR-"
      }
    },
    {
      "cell_type": "markdown",
      "source": [
        "### 4.2 Summary Statistics:\n",
        "\n",
        "Spark DataFrames include some built-in functions for statistical processing. The describe() function performs summary statistics calculations on all numeric columns and returns them as a DataFrame."
      ],
      "metadata": {
        "id": "KypynhwJvhR-"
      }
    },
    {
      "cell_type": "code",
      "source": [
        "(census_housing.describe().select(\n",
        "                    \"summary\",\n",
        "                    F.round(\"medage\", 4).alias(\"median resident age\"),\n",
        "                    F.round(\"totrooms\", 4).alias(\"total rooms\"),\n",
        "                    F.round(\"totbdrms\", 4).alias(\"total bedrooms\"),\n",
        "                    F.round(\"pop\", 4).alias(\"population\"),\n",
        "                    F.round(\"houshlds\", 4).alias(\"households\"),\n",
        "                    F.round(\"medinc\", 4).alias(\"median income\"),\n",
        "                    F.round(\"medhv\", 4).alias(\"median home value\"))\n",
        "                    .show())"
      ],
      "metadata": {
        "trusted": true,
        "colab": {
          "base_uri": "https://localhost:8080/"
        },
        "id": "FTnzQxtcvhR-",
        "outputId": "7ca31c7d-0761-4a20-96ec-b50ec42c7bb8"
      },
      "execution_count": 23,
      "outputs": [
        {
          "output_type": "stream",
          "name": "stdout",
          "text": [
            "+-------+-------------------+-----------+--------------+----------+----------+-------------+-----------------+\n",
            "|summary|median resident age|total rooms|total bedrooms|population|households|median income|median home value|\n",
            "+-------+-------------------+-----------+--------------+----------+----------+-------------+-----------------+\n",
            "|  count|            20640.0|    20640.0|       20640.0|   20640.0|   20640.0|      20640.0|          20640.0|\n",
            "|   mean|            28.6395|  2635.7631|       537.898| 1425.4767|  499.5397|       3.8707|      206855.8169|\n",
            "| stddev|            12.5856|  2181.6153|      421.2479| 1132.4621|  382.3298|       1.8998|      115395.6159|\n",
            "|    min|                1.0|        2.0|           1.0|       3.0|       1.0|       0.4999|          14999.0|\n",
            "|    max|               52.0|    39320.0|        6445.0|   35682.0|    6082.0|      15.0001|         500001.0|\n",
            "+-------+-------------------+-----------+--------------+----------+----------+-------------+-----------------+\n",
            "\n"
          ]
        }
      ]
    },
    {
      "cell_type": "markdown",
      "source": [
        "Look at the minimum and maximum values of all the (numerical) attributes. We see that multiple attributes have a wide range of values: we will need to normalize your dataset."
      ],
      "metadata": {
        "id": "La3wZAP0vhR-"
      }
    },
    {
      "cell_type": "markdown",
      "source": [
        "## 5. Data Preprocessing\n",
        "\n",
        "With all this information that we gathered from our small exploratory data analysis, we know enough to preprocess our data to feed it to the model.\n",
        "\n",
        "+ we shouldn't care about missing values; all zero values have been excluded from the data set.\n",
        "+ We should probably standardize our data, as we have seen that the range of minimum and maximum values is quite big.\n",
        "+ There are possibly some additional attributes that we could add, such as a feature that registers the number of bedrooms per room or the rooms per household.\n",
        "+ Our dependent variable is also quite big; To make our life easier, we'll have to adjust the values slightly."
      ],
      "metadata": {
        "id": "Ff3wlSWyvhR-"
      }
    },
    {
      "cell_type": "markdown",
      "source": [
        "### 5.1 Preprocessing The Target Values\n",
        "First, let's start with the `medianHouseValue`, our dependent variable. To facilitate our working with the target values, we will express the house values in units of 100,000. That means that a target such as `452600.000000` should become `4.526`:"
      ],
      "metadata": {
        "id": "eJYUR5ZnvhR_"
      }
    },
    {
      "cell_type": "code",
      "source": [
        "# Adjust the values of `medianHouseValue`\n",
        "housing_df = housing_df.withColumn(\"medhv\", col(\"medhv\")/100000)"
      ],
      "metadata": {
        "trusted": true,
        "id": "ogyDSKW4vhR_"
      },
      "execution_count": null,
      "outputs": []
    },
    {
      "cell_type": "code",
      "source": [
        "# Show the first 2 lines of `df`\n",
        "housing_df.show(2)"
      ],
      "metadata": {
        "trusted": true,
        "id": "z6zHin9rvhR_"
      },
      "execution_count": null,
      "outputs": []
    },
    {
      "cell_type": "markdown",
      "source": [
        "We can clearly see that the values have been adjusted correctly when we look at the result of the show() method:"
      ],
      "metadata": {
        "id": "7jfd2iggvhR_"
      }
    },
    {
      "cell_type": "markdown",
      "source": [
        "## 6. Feature Engineering\n",
        "Now that we have adjusted the values in medianHouseValue, we will now add the following columns to the data set:\n",
        "\n",
        "+ Rooms per household which refers to the number of rooms in households per block group;\n",
        "+ Population per household, which basically gives us an indication of how many people live in households per block group; And\n",
        "+ Bedrooms per room which will give us an idea about how many rooms are bedrooms per block group;\n",
        "\n",
        "As we're working with DataFrames, we can best use the `select()` method to select the columns that we're going to be working with, namely `totalRooms`, `households`, and `population`. Additionally, we have to indicate that we're working with columns by adding the `col()` function to our code. Otherwise, we won't be able to do element-wise operations like the division that we have in mind for these three variables:"
      ],
      "metadata": {
        "id": "wDG94zP-vhR_"
      }
    },
    {
      "cell_type": "code",
      "source": [
        "housing_df.columns"
      ],
      "metadata": {
        "trusted": true,
        "id": "3wm6T-L1vhR_"
      },
      "execution_count": null,
      "outputs": []
    },
    {
      "cell_type": "code",
      "source": [
        "# Add the new columns to `df`\n",
        "housing_df = (housing_df.withColumn(\"rmsperhh\", F.round(col(\"totrooms\")/col(\"houshlds\"), 2))\n",
        "                       .withColumn(\"popperhh\", F.round(col(\"pop\")/col(\"houshlds\"), 2))\n",
        "                       .withColumn(\"bdrmsperrm\", F.round(col(\"totbdrms\")/col(\"totrooms\"), 2)))"
      ],
      "metadata": {
        "trusted": true,
        "id": "A_iPFZkWvhSA"
      },
      "execution_count": null,
      "outputs": []
    },
    {
      "cell_type": "code",
      "source": [
        "# Inspect the result\n",
        "housing_df.show(5)"
      ],
      "metadata": {
        "trusted": true,
        "id": "img7BVVLvhSA"
      },
      "execution_count": null,
      "outputs": []
    },
    {
      "cell_type": "markdown",
      "source": [
        "We can see that, for the first row, there are about 6.98 rooms per household, the households in the block group consist of about 2.5 people and the amount of bedrooms is quite low with 0.14:"
      ],
      "metadata": {
        "id": "qvE_Va9vvhSA"
      }
    },
    {
      "cell_type": "markdown",
      "source": [
        "Since we don't want to necessarily standardize our target values, we'll want to make sure to isolate those in our data set. Note also that this is the time to leave out variables that we might not want to consider in our analysis. In this case, let's leave out variables such as longitude, latitude, housingMedianAge and totalRooms.\n",
        "\n",
        "In this case, we will use the `select()` method and passing the column names in the order that is more appropriate. In this case, the target variable medianHouseValue is put first, so that it won't be affected by the standardization."
      ],
      "metadata": {
        "id": "-MOMmARJvhSA"
      }
    },
    {
      "cell_type": "code",
      "source": [
        "# Re-order and select columns\n",
        "housing_df = housing_df.select(\"medhv\", \n",
        "                              \"totbdrms\", \n",
        "                              \"pop\", \n",
        "                              \"houshlds\", \n",
        "                              \"medinc\", \n",
        "                              \"rmsperhh\", \n",
        "                              \"popperhh\", \n",
        "                              \"bdrmsperrm\")"
      ],
      "metadata": {
        "trusted": true,
        "id": "YTbcc1cBvhSA"
      },
      "execution_count": null,
      "outputs": []
    },
    {
      "cell_type": "markdown",
      "source": [
        "### 6.1 Feature Extraction\n",
        "\n",
        "Now that we have re-ordered the data, we're ready to normalize the data. We will choose the features to be normalized."
      ],
      "metadata": {
        "id": "ySnVuLU8vhSB"
      }
    },
    {
      "cell_type": "code",
      "source": [
        "featureCols = [\"totbdrms\", \"pop\", \"houshlds\", \"medinc\", \"rmsperhh\", \"popperhh\", \"bdrmsperrm\"]"
      ],
      "metadata": {
        "trusted": true,
        "id": "RNm0iVERvhSB"
      },
      "execution_count": null,
      "outputs": []
    },
    {
      "cell_type": "markdown",
      "source": [
        "**Use a VectorAssembler to put features into a feature vector column:**"
      ],
      "metadata": {
        "id": "aoVLPtFUvhSB"
      }
    },
    {
      "cell_type": "code",
      "source": [
        "# put features into a feature vector column\n",
        "assembler = VectorAssembler(inputCols=featureCols, outputCol=\"features\") "
      ],
      "metadata": {
        "trusted": true,
        "id": "JKNnqJPavhSB"
      },
      "execution_count": null,
      "outputs": []
    },
    {
      "cell_type": "code",
      "source": [
        "assembled_df = assembler.transform(housing_df)"
      ],
      "metadata": {
        "trusted": true,
        "id": "Fp92cip9vhSB"
      },
      "execution_count": null,
      "outputs": []
    },
    {
      "cell_type": "code",
      "source": [
        "assembled_df.show(10, truncate=False)"
      ],
      "metadata": {
        "trusted": true,
        "id": "LJZ6kjIivhSB"
      },
      "execution_count": null,
      "outputs": []
    },
    {
      "cell_type": "markdown",
      "source": [
        "All the features have transformed into a Dense Vector."
      ],
      "metadata": {
        "id": "ZwQFQZDFvhSB"
      }
    },
    {
      "cell_type": "markdown",
      "source": [
        "### 6.2 Standardization\n",
        "\n",
        "Next, we can finally scale the data using `StandardScaler`. The input columns are the `features`, and the output column with the rescaled that will be included in the scaled_df will be named `\"features_scaled\"`:"
      ],
      "metadata": {
        "id": "JfBeHSCMvhSC"
      }
    },
    {
      "cell_type": "code",
      "source": [
        "# Initialize the `standardScaler`\n",
        "standardScaler = StandardScaler(inputCol=\"features\", outputCol=\"features_scaled\")"
      ],
      "metadata": {
        "trusted": true,
        "id": "fHqNvcqNvhSC"
      },
      "execution_count": null,
      "outputs": []
    },
    {
      "cell_type": "code",
      "source": [
        "# Fit the DataFrame to the scaler\n",
        "scaled_df = standardScaler.fit(assembled_df).transform(assembled_df)"
      ],
      "metadata": {
        "trusted": true,
        "id": "05yhZER7vhSC"
      },
      "execution_count": null,
      "outputs": []
    },
    {
      "cell_type": "code",
      "source": [
        "# Inspect the result\n",
        "scaled_df.select(\"features\", \"features_scaled\").show(10, truncate=False)"
      ],
      "metadata": {
        "trusted": true,
        "id": "itk0MGslvhSC"
      },
      "execution_count": null,
      "outputs": []
    },
    {
      "cell_type": "markdown",
      "source": [
        "### 7. Building A Machine Learning Model With Spark ML\n",
        "\n",
        "With all the preprocessing done, it's finally time to start building our Linear Regression model! Just like always, we first need to split the data into training and test sets. Luckily, this is no issue with the `randomSplit()` method:"
      ],
      "metadata": {
        "id": "iq5RuyEsvhSC"
      }
    },
    {
      "cell_type": "code",
      "source": [
        "# Split the data into train and test sets\n",
        "train_data, test_data = scaled_df.randomSplit([.8,.2], seed=rnd_seed)"
      ],
      "metadata": {
        "trusted": true,
        "id": "RQYziubSvhSC"
      },
      "execution_count": null,
      "outputs": []
    },
    {
      "cell_type": "markdown",
      "source": [
        "We pass in a list with two numbers that represent the size that we want your training and test sets to have and a seed, which is needed for reproducibility reasons.\n",
        "\n",
        "**Note** that the argument `elasticNetParam` corresponds to $\\alpha$ or the vertical intercept and that the `regParam` or the regularization paramater corresponds to $\\lambda$."
      ],
      "metadata": {
        "id": "99rBdKekvhSC"
      }
    },
    {
      "cell_type": "code",
      "source": [
        "train_data.columns"
      ],
      "metadata": {
        "trusted": true,
        "id": "UO4WCZxrvhSC"
      },
      "execution_count": null,
      "outputs": []
    },
    {
      "cell_type": "markdown",
      "source": [
        "**Create an ElasticNet model:**\n",
        "\n",
        "ElasticNet is a linear regression model trained with L1 and L2 prior as regularizer. This combination allows for learning a sparse model where few of the weights are non-zero like Lasso, while still maintaining the regularization properties of Ridge. We control the convex combination of L1 and L2 using the l1_ratio parameter.\n",
        "\n",
        "Elastic-net is useful when there are multiple features which are correlated with one another. Lasso is likely to pick one of these at random, while elastic-net is likely to pick both.\n",
        "\n",
        "A practical advantage of trading-off between Lasso and Ridge is it allows Elastic-Net to inherit some of Ridge’s stability under rotation.\n",
        "\n",
        "The objective function to minimize is in this case:\n",
        "\\begin{align}\n",
        "min_w\\frac{1}{2n_{samples}}{\\parallel{X_w - y}\\parallel}^2_2 + \\alpha\\lambda{\\parallel{X_w - y}\\parallel}_1 + \\frac{\\alpha(1-\\lambda)}{2}{\\parallel{w}\\parallel}^2_2\n",
        "\\end{align}\n",
        "\n",
        "http://scikit-learn.org/stable/modules/linear_model.html#elastic-net"
      ],
      "metadata": {
        "id": "Nu5KiidZvhSD"
      }
    },
    {
      "cell_type": "code",
      "source": [
        "# Initialize `lr`\n",
        "lr = (LinearRegression(featuresCol='features_scaled', labelCol=\"medhv\", predictionCol='predmedhv', \n",
        "                               maxIter=10, regParam=0.3, elasticNetParam=0.8, standardization=False))"
      ],
      "metadata": {
        "trusted": true,
        "id": "1XM4-tKxvhSD"
      },
      "execution_count": null,
      "outputs": []
    },
    {
      "cell_type": "code",
      "source": [
        "# Fit the data to the model\n",
        "linearModel = lr.fit(train_data)"
      ],
      "metadata": {
        "trusted": true,
        "id": "GKkzPofBvhSD"
      },
      "execution_count": null,
      "outputs": []
    },
    {
      "cell_type": "markdown",
      "source": [
        "## 8. Evaluating the Model\n",
        "\n",
        "With our model in place, we can generate predictions for our test data: use the `transform()` method to predict the labels for our `test_data`. Then, we can use RDD operations to extract the predictions as well as the true labels from the DataFrame."
      ],
      "metadata": {
        "id": "kvPWzb9WvhSD"
      }
    },
    {
      "cell_type": "markdown",
      "source": [
        "### 8.1 Inspect the Model Co-efficients"
      ],
      "metadata": {
        "id": "nK5cvtRavhSD"
      }
    },
    {
      "cell_type": "code",
      "source": [
        "# Coefficients for the model\n",
        "linearModel.coefficients"
      ],
      "metadata": {
        "trusted": true,
        "id": "969U7Qo6vhSD"
      },
      "execution_count": null,
      "outputs": []
    },
    {
      "cell_type": "code",
      "source": [
        "featureCols"
      ],
      "metadata": {
        "trusted": true,
        "id": "yjSut9-ivhSD"
      },
      "execution_count": null,
      "outputs": []
    },
    {
      "cell_type": "code",
      "source": [
        "# Intercept for the model\n",
        "linearModel.intercept"
      ],
      "metadata": {
        "trusted": true,
        "id": "vyLeUglIvhSE"
      },
      "execution_count": null,
      "outputs": []
    },
    {
      "cell_type": "code",
      "source": [
        "coeff_df = pd.DataFrame({\"Feature\": [\"Intercept\"] + featureCols, \"Co-efficients\": np.insert(linearModel.coefficients.toArray(), 0, linearModel.intercept)})\n",
        "coeff_df = coeff_df[[\"Feature\", \"Co-efficients\"]]"
      ],
      "metadata": {
        "trusted": true,
        "id": "REVBZBIrvhSE"
      },
      "execution_count": null,
      "outputs": []
    },
    {
      "cell_type": "code",
      "source": [
        "coeff_df"
      ],
      "metadata": {
        "trusted": true,
        "id": "ofyLUC6OvhSE"
      },
      "execution_count": null,
      "outputs": []
    },
    {
      "cell_type": "markdown",
      "source": [
        "### 8.2 Generating Predictions"
      ],
      "metadata": {
        "id": "VbaOTVt9vhSE"
      }
    },
    {
      "cell_type": "code",
      "source": [
        "# Generate predictions\n",
        "predictions = linearModel.transform(test_data)"
      ],
      "metadata": {
        "trusted": true,
        "id": "RBiZT60pvhSE"
      },
      "execution_count": null,
      "outputs": []
    },
    {
      "cell_type": "code",
      "source": [
        "# Extract the predictions and the \"known\" correct labels\n",
        "predandlabels = predictions.select(\"predmedhv\", \"medhv\")"
      ],
      "metadata": {
        "trusted": true,
        "id": "__IlfAscvhSE"
      },
      "execution_count": null,
      "outputs": []
    },
    {
      "cell_type": "code",
      "source": [
        "predandlabels.show()"
      ],
      "metadata": {
        "trusted": true,
        "id": "kTnACYDevhSE"
      },
      "execution_count": null,
      "outputs": []
    },
    {
      "cell_type": "markdown",
      "source": [
        "### 8.3 Inspect the Metrics\n",
        "\n",
        "Looking at predicted values is one thing, but another and better thing is looking at some metrics to get a better idea of how good your model actually is.\n",
        "\n",
        "**Using the `LinearRegressionModel.summary` attribute:**\n",
        "\n",
        "Next, we can also use the `summary` attribute to pull up the `rootMeanSquaredError` and the `r2`."
      ],
      "metadata": {
        "id": "XG8lg_bNvhSE"
      }
    },
    {
      "cell_type": "code",
      "source": [
        "# Get the RMSE\n",
        "print(\"RMSE: {0}\".format(linearModel.summary.rootMeanSquaredError))"
      ],
      "metadata": {
        "trusted": true,
        "id": "WJ0T8OvmvhSF"
      },
      "execution_count": null,
      "outputs": []
    },
    {
      "cell_type": "code",
      "source": [
        "print(\"MAE: {0}\".format(linearModel.summary.meanAbsoluteError))"
      ],
      "metadata": {
        "trusted": true,
        "id": "On6F91vCvhSF"
      },
      "execution_count": null,
      "outputs": []
    },
    {
      "cell_type": "code",
      "source": [
        "# Get the R2\n",
        "print(\"R2: {0}\".format(linearModel.summary.r2))"
      ],
      "metadata": {
        "trusted": true,
        "id": "59SFeGzIvhSF"
      },
      "execution_count": null,
      "outputs": []
    },
    {
      "cell_type": "markdown",
      "source": [
        "+ The RMSE measures how much error there is between two datasets comparing a predicted value and an observed or known value. The smaller an RMSE value, the closer predicted and observed values are.\n",
        "\n",
        "+ The R2 (\"R squared\") or the coefficient of determination is a measure that shows how close the data are to the fitted regression line. This score will always be between 0 and a 100% (or 0 to 1 in this case), where 0% indicates that the model explains none of the variability of the response data around its mean, and 100% indicates the opposite: it explains all the variability. That means that, in general, the higher the R-squared, the better the model fits our data."
      ],
      "metadata": {
        "id": "Fk88nNsQvhSF"
      }
    },
    {
      "cell_type": "markdown",
      "source": [
        "**Using the RegressionEvaluator from pyspark.ml package:**"
      ],
      "metadata": {
        "id": "1Y9B4hLovhSF"
      }
    },
    {
      "cell_type": "code",
      "source": [
        "evaluator = RegressionEvaluator(predictionCol=\"predmedhv\", labelCol='medhv', metricName='rmse')\n",
        "print(\"RMSE: {0}\".format(evaluator.evaluate(predandlabels)))"
      ],
      "metadata": {
        "trusted": true,
        "id": "mqs8KQySvhSF"
      },
      "execution_count": null,
      "outputs": []
    },
    {
      "cell_type": "code",
      "source": [
        "evaluator = RegressionEvaluator(predictionCol=\"predmedhv\", labelCol='medhv', metricName='mae')\n",
        "print(\"MAE: {0}\".format(evaluator.evaluate(predandlabels)))"
      ],
      "metadata": {
        "trusted": true,
        "id": "Ju6fUoaUvhSF"
      },
      "execution_count": null,
      "outputs": []
    },
    {
      "cell_type": "code",
      "source": [
        "evaluator = RegressionEvaluator(predictionCol=\"predmedhv\", labelCol='medhv', metricName='r2')\n",
        "print(\"R2: {0}\".format(evaluator.evaluate(predandlabels)))"
      ],
      "metadata": {
        "trusted": true,
        "id": "cuJ8XfHgvhSF"
      },
      "execution_count": null,
      "outputs": []
    },
    {
      "cell_type": "markdown",
      "source": [
        "**Using the RegressionMetrics from pyspark.mllib package:**"
      ],
      "metadata": {
        "id": "ODqq-g36vhSF"
      }
    },
    {
      "cell_type": "code",
      "source": [
        "# mllib is old so the methods are available in rdd\n",
        "metrics = RegressionMetrics(predandlabels.rdd)"
      ],
      "metadata": {
        "trusted": true,
        "id": "vmbWZRmrvhSG"
      },
      "execution_count": null,
      "outputs": []
    },
    {
      "cell_type": "code",
      "source": [
        "print(\"RMSE: {0}\".format(metrics.rootMeanSquaredError))"
      ],
      "metadata": {
        "trusted": true,
        "id": "wDcCBxo1vhSG"
      },
      "execution_count": null,
      "outputs": []
    },
    {
      "cell_type": "code",
      "source": [
        "print(\"MAE: {0}\".format(metrics.meanAbsoluteError))"
      ],
      "metadata": {
        "trusted": true,
        "id": "aLPmzaZEvhSG"
      },
      "execution_count": null,
      "outputs": []
    },
    {
      "cell_type": "code",
      "source": [
        "print(\"R2: {0}\".format(metrics.r2))"
      ],
      "metadata": {
        "trusted": true,
        "id": "foXXOT_7vhSG"
      },
      "execution_count": null,
      "outputs": []
    },
    {
      "cell_type": "code",
      "source": [
        "#end spark connection\n",
        "spark.stop()"
      ],
      "metadata": {
        "trusted": true,
        "id": "N5R791V-vhSG"
      },
      "execution_count": null,
      "outputs": []
    },
    {
      "cell_type": "markdown",
      "source": [
        "Now we should explore another data set -- cybersecurity salaries. This time, we can use elastic-net and some other models to compare performance. "
      ],
      "metadata": {
        "id": "1mkDUGdXPSqm"
      }
    },
    {
      "cell_type": "code",
      "source": [
        "salaries_data = '/content/salaries_cyber.csv'"
      ],
      "metadata": {
        "id": "Z9DCYTyOPxve"
      },
      "execution_count": null,
      "outputs": []
    },
    {
      "cell_type": "code",
      "source": [
        "#read in data and inspect. Headings look good. \n",
        "\n",
        "salaries=spark.read.option(\"header\",\"true\").csv(\"/content/salaries_cyber.csv\")\n",
        "salaries.show(10,False)"
      ],
      "metadata": {
        "id": "yypVK9BlWM-h"
      },
      "execution_count": null,
      "outputs": []
    },
    {
      "cell_type": "code",
      "source": [
        "salaries.printSchema"
      ],
      "metadata": {
        "id": "hSqqMangQkgj"
      },
      "execution_count": null,
      "outputs": []
    },
    {
      "cell_type": "code",
      "source": [
        "#convert columns with numerals to float type\n",
        "salaries.select(salaries.work_year.cast(\"float\"),\n",
        "\n",
        "salaries.salary.cast(\"float\"),\n",
        " \n",
        "salaries.salary_currency.cast(\"float\"), \n",
        "salaries.salary_in_usd.cast('float'),\n",
        "salaries.remote_ratio.cast('float'))\n"
      ],
      "metadata": {
        "id": "8npLvgzqZir2"
      },
      "execution_count": null,
      "outputs": []
    },
    {
      "cell_type": "code",
      "source": [
        "year = salaries.orderBy(\"work_year\", ascending=False)\n",
        "year.show(15)"
      ],
      "metadata": {
        "id": "mtxY959eWjvA"
      },
      "execution_count": null,
      "outputs": []
    },
    {
      "cell_type": "code",
      "source": [
        "\n",
        "salary_sort = salaries.orderBy('salary_in_usd', ascending=True)\n",
        "salary_sort.show(100)"
      ],
      "metadata": {
        "id": "ot4qbmGfYuTJ"
      },
      "execution_count": null,
      "outputs": []
    },
    {
      "cell_type": "code",
      "source": [
        ""
      ],
      "metadata": {
        "id": "4PAjKZ1sWw--"
      },
      "execution_count": null,
      "outputs": []
    }
  ]
}